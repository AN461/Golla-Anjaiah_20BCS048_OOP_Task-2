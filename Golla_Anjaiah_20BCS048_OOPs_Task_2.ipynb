{
  "nbformat": 4,
  "nbformat_minor": 0,
  "metadata": {
    "colab": {
      "name": "Golla Anjaiah_20BCS048_OOPs_Task-2.ipynb",
      "provenance": [],
      "collapsed_sections": [],
      "authorship_tag": "ABX9TyO7ylilraTym2iXQQbrCbT1",
      "include_colab_link": true
    },
    "kernelspec": {
      "name": "python3",
      "display_name": "Python 3"
    },
    "language_info": {
      "name": "python"
    }
  },
  "cells": [
    {
      "cell_type": "markdown",
      "metadata": {
        "id": "view-in-github",
        "colab_type": "text"
      },
      "source": [
        "<a href=\"https://colab.research.google.com/github/AN461/OOPs-Lab/blob/main/Golla_Anjaiah_20BCS048_OOPs_Task_2.ipynb\" target=\"_parent\"><img src=\"https://colab.research.google.com/assets/colab-badge.svg\" alt=\"Open In Colab\"/></a>"
      ]
    },
    {
      "cell_type": "markdown",
      "metadata": {
        "id": "iDh-eoRsd0hb"
      },
      "source": [
        "## Problem 1\n"
      ]
    },
    {
      "cell_type": "code",
      "metadata": {
        "id": "kQDzgFqnWGNu",
        "colab": {
          "base_uri": "https://localhost:8080/"
        },
        "outputId": "8923f86c-917b-4af2-aaea-d7865fb497fa"
      },
      "source": [
        "class circle:\n",
        "    def __init__(self,radius):\n",
        "        self.radius=radius\n",
        "    def Area_circle(self):\n",
        "        area=float((3.14)*((self.radius)**2))\n",
        "        print(\"Area of the circle is: \",area)\n",
        "    def perimeter_circle(self):\n",
        "        perimeter=float((6.28)*(self.radius))\n",
        "        print(\"Perimeter of the Circle is: \",perimeter)\n",
        "radius=int(input(\"Enter the radius of circle: \"))\n",
        "obj=circle(radius)\n",
        "obj.Area_circle()\n",
        "obj.perimeter_circle()"
      ],
      "execution_count": 1,
      "outputs": [
        {
          "output_type": "stream",
          "name": "stdout",
          "text": [
            "Enter the radius of circle: 5\n",
            "Area of the circle is:  78.5\n",
            "Perimeter of the Circle is:  31.400000000000002\n"
          ]
        }
      ]
    },
    {
      "cell_type": "markdown",
      "metadata": {
        "id": "oyUTmcRzeG15"
      },
      "source": [
        "## Problem 2"
      ]
    },
    {
      "cell_type": "code",
      "metadata": {
        "id": "EDA34n5BeJiU",
        "colab": {
          "base_uri": "https://localhost:8080/"
        },
        "outputId": "58861b58-6bb5-4aca-abf0-ee1d00fc420a"
      },
      "source": [
        "class Faculty:\n",
        "    def __init__(self):\n",
        "        self.name=\"\"\n",
        "        self.EmpId=0\n",
        "        self.Branch=\"\"\n",
        "        self.Salary=0\n",
        "    def Input_data(self):\n",
        "        self.name=input(\"Enter Name: \")\n",
        "        self.EmpId=int(input(\"Enter Emp_Id: \"))\n",
        "        self.Branch=input(\"Enter Branch: \")\n",
        "        self.Salary=int(input(\"Enter Salary: \"))\n",
        "    def Display(self):\n",
        "        print(\"Details of the {} Faculty\".format(i+1))\n",
        "        print(\"   Name: \",self.name)\n",
        "        print(\"   Emp_Id: \",self.EmpId)\n",
        "        print(\"   Branch: \",self.Branch)\n",
        "        print(\"   Salary: \",self.Salary)\n",
        "\n",
        "List=[]\n",
        "for i in range(5):\n",
        "    fac=Faculty()\n",
        "    fac.Input_data()\n",
        "    List.append(fac)\n",
        "\n",
        "for i in range(5):\n",
        "    List[i].Display()"
      ],
      "execution_count": 2,
      "outputs": [
        {
          "output_type": "stream",
          "name": "stdout",
          "text": [
            "Enter Name: Anji\n",
            "Enter Emp_Id: 24\n",
            "Enter Branch: CSE\n",
            "Enter Salary: 200000\n",
            "Enter Name: Ramu\n",
            "Enter Emp_Id: 15\n",
            "Enter Branch: ECS\n",
            "Enter Salary: 9000000\n",
            "Enter Name: Manju\n",
            "Enter Emp_Id: 8\n",
            "Enter Branch: EEE\n",
            "Enter Salary: 1000000\n",
            "Enter Name: Swaroopa\n",
            "Enter Emp_Id: 90\n",
            "Enter Branch: XYZ\n",
            "Enter Salary: 800000\n",
            "Enter Name: Mallesh\n",
            "Enter Emp_Id: 45\n",
            "Enter Branch: KLM\n",
            "Enter Salary: 12300000000\n",
            "Details of the 1 Faculty\n",
            "   Name:  Anji\n",
            "   Emp_Id:  24\n",
            "   Branch:  CSE\n",
            "   Salary:  200000\n",
            "Details of the 2 Faculty\n",
            "   Name:  Ramu\n",
            "   Emp_Id:  15\n",
            "   Branch:  ECS\n",
            "   Salary:  9000000\n",
            "Details of the 3 Faculty\n",
            "   Name:  Manju\n",
            "   Emp_Id:  8\n",
            "   Branch:  EEE\n",
            "   Salary:  1000000\n",
            "Details of the 4 Faculty\n",
            "   Name:  Swaroopa\n",
            "   Emp_Id:  90\n",
            "   Branch:  XYZ\n",
            "   Salary:  800000\n",
            "Details of the 5 Faculty\n",
            "   Name:  Mallesh\n",
            "   Emp_Id:  45\n",
            "   Branch:  KLM\n",
            "   Salary:  12300000000\n"
          ]
        }
      ]
    },
    {
      "cell_type": "markdown",
      "metadata": {
        "id": "BU47Xq7KeS5z"
      },
      "source": [
        "## Problem 3"
      ]
    },
    {
      "cell_type": "code",
      "metadata": {
        "id": "gWEidldfeX-x",
        "colab": {
          "base_uri": "https://localhost:8080/"
        },
        "outputId": "e2fb17ba-4503-49e6-c2da-b5ccb4af603c"
      },
      "source": [
        "class Bank_Account:\n",
        "    def __init__(self):\n",
        "        self.accountNo=0\n",
        "        self.holderName=\"\"\n",
        "        self.amount=0\n",
        "    def input_data(self):\n",
        "        self.name=input(\"Enter Account Holder Name: \")\n",
        "        self.accountNo=int(input(\"Enter Account No: \"))\n",
        "    def Deposite(self):\n",
        "        print(\"Money Deposite\")\n",
        "        self.amount=int(input(\"Enter amount:\"))\n",
        "        print(\"press OK\")\n",
        "        print(\"Your amount deposited, Thank you!\")\n",
        "    def withdraw(self):\n",
        "        print(\"Withdraw Money\")\n",
        "        self.amount=int(input(\"Enter amount: \"))\n",
        "        print(\"press OK\")\n",
        "        print(\"Thank you! \",self.name)\n",
        "    def check_balance(self):\n",
        "        print(\"Balance \")\n",
        "        print(\"Total Balance in the Account: \",self.amount)\n",
        "    def Display(self):\n",
        "        print(\"Account Holder Name:\",self.name)\n",
        "        print(\"Account No :\",self.accountNo)\n",
        "        print(\"Balance :\",self.amount)\n",
        "\n",
        "per=Bank_Account()\n",
        "per.input_data()\n",
        "print(\"Welcome\")\n",
        "print(\"Select the choice\")\n",
        "choice=int(input(\"1.Deposite 2.Withdraw Money 3.Balance Enquiry 4.Account Details  \\n\"))\n",
        "if choice==1:\n",
        "    per.Deposite()\n",
        "elif choice==2:\n",
        "    per.withdraw()\n",
        "elif choice==3:\n",
        "    check_balance()\n",
        "else:\n",
        "    per.Display()"
      ],
      "execution_count": 3,
      "outputs": [
        {
          "output_type": "stream",
          "name": "stdout",
          "text": [
            "Enter Account Holder Name: Golla Anjaiah\n",
            "Enter Account No: 313452344290\n",
            "Welcome\n",
            "Select the choice\n",
            "1.Deposite 2.Withdraw Money 3.Balance Enquiry 4.Account Details  \n",
            "4\n",
            "Account Holder Name: Golla Anjaiah\n",
            "Account No : 313452344290\n",
            "Balance : 0\n"
          ]
        }
      ]
    },
    {
      "cell_type": "markdown",
      "metadata": {
        "id": "chL0kMkiejh3"
      },
      "source": [
        "## Problem 4"
      ]
    },
    {
      "cell_type": "code",
      "metadata": {
        "id": "ay7BltILeoN6",
        "colab": {
          "base_uri": "https://localhost:8080/"
        },
        "outputId": "940e13bb-f329-44a9-bbfc-352b6fbd8919"
      },
      "source": [
        "class Student:\n",
        "    def __init__(self):\n",
        "        self.name=\"\"\n",
        "        self.USN=0\n",
        "        self.marks=0\n",
        "    def Enter_data(self):\n",
        "        self.name=input(\"Enter the name: \")\n",
        "        self.USN=int(input(\"Enter USN: \"))\n",
        "        self.marks=int(input(\"Enter Marks: \"))\n",
        "    def Display(self):\n",
        "        print(\"Details of {} Student\".format(i+1))\n",
        "        print(\"   Name: \",self.name)\n",
        "        print(\"   USN: \",self.USN)\n",
        "        print(\"   Marks: \",self.marks)\n",
        "List=[]\n",
        "for i in range(3):\n",
        "    stu=Student()\n",
        "    stu.Enter_data()\n",
        "    List.append(stu)\n",
        "for i in range(3):\n",
        "    List[i].Display()"
      ],
      "execution_count": 4,
      "outputs": [
        {
          "output_type": "stream",
          "name": "stdout",
          "text": [
            "Enter the name: Golla Anjaiah\n",
            "Enter USN: 12\n",
            "Enter Marks: 95\n",
            "Enter the name: Golla Ramesh\n",
            "Enter USN: 15\n",
            "Enter Marks: 65\n",
            "Enter the name: Golla Manju\n",
            "Enter USN: 18\n",
            "Enter Marks: 50\n",
            "Details of 1 Student\n",
            "   Name:  Golla Anjaiah\n",
            "   USN:  12\n",
            "   Marks:  95\n",
            "Details of 2 Student\n",
            "   Name:  Golla Ramesh\n",
            "   USN:  15\n",
            "   Marks:  65\n",
            "Details of 3 Student\n",
            "   Name:  Golla Manju\n",
            "   USN:  18\n",
            "   Marks:  50\n"
          ]
        }
      ]
    },
    {
      "cell_type": "markdown",
      "metadata": {
        "id": "Yx8kk8i-eu-I"
      },
      "source": [
        "## Problem 5"
      ]
    },
    {
      "cell_type": "code",
      "metadata": {
        "colab": {
          "base_uri": "https://localhost:8080/"
        },
        "id": "BreJHtKueyOO",
        "outputId": "90535597-71f8-471e-af69-9b75b4f8ee01"
      },
      "source": [
        "class Hospital:\n",
        "    def __init__(self):\n",
        "        self.name=\"\"\n",
        "        self.gender=\"\"\n",
        "        self.age=0\n",
        "        self.date_adm=\"\"\n",
        "        self.date_dis=\"\"\n",
        "        self.sym=\"\"\n",
        "        self.o2=20\n",
        "        self.gen=30\n",
        "    def Fill_Details(self):\n",
        "        self.name=input(\"Enter Patient Name    : \")\n",
        "        self.gender=input(\"Enter Gender        : \")\n",
        "        self.age=int(input(\"Enter Age(Years)   : \"))\n",
        "        self.date_adm=input(\"Date of Admission : \")\n",
        "        self.date_dis=input(\"Date of Discharge : \")\n",
        "    def Patient_Details(self):\n",
        "        print(\"Name of the Patient: \",self.name)\n",
        "        print(\"Gender             : \",self.gender)\n",
        "        print(\"Age(in Years)      : \",self.age)\n",
        "        print(\"Date of Admission  : \",self.date_adm)\n",
        "        print(\"Date of Discharge  : \",self.date_dis)\n",
        "        print(\"\")\n",
        "    def Enter_symptoms(self):\n",
        "        self.sym=input(\"Enter the symptoms: (Sym1,Sym2,Sym3,Sym.....)\").split(\",\")\n",
        "    def Symptoms(self):\n",
        "      for i in self.sym:\n",
        "        print(i)\n",
        "    def O2support(self):\n",
        "        self.o2+=1\n",
        "        self.gen-=1\n",
        "    def general(self):\n",
        "        self.gen+=1\n",
        "    def severity(self):\n",
        "        self.spo2=float(input(\"Enter Oxygen levels: \"))\n",
        "        if self.spo2<90:\n",
        "            self.O2support()\n",
        "            print(\"Put the Patient on Oxygen Support\")\n",
        "        else:\n",
        "            print(\"Move to General ward for Observation\")\n",
        "    def disp_patients(self):\n",
        "        print(\"Total Number Patients: \",self.o2+self.gen)\n",
        "        print(\"General Ward patients: \",self.gen)\n",
        "        print(\"Oxygen Support Patients: \",self.o2)\n",
        "        \n",
        "\n",
        "List=[]\n",
        "for i in range(1):\n",
        "  pat=Hospital()\n",
        "  pat.Fill_Details()\n",
        "  pat.Enter_symptoms()\n",
        "  List.append(pat)\n",
        "\n",
        "print(\"Patient Symptoms: \\n\")\n",
        "for i in range(1):\n",
        "    List[i].Symptoms()\n",
        "    List[i].Patient_Details()\n"
      ],
      "execution_count": 6,
      "outputs": [
        {
          "output_type": "stream",
          "name": "stdout",
          "text": [
            "Enter Patient Name    : Golla Anjaiah\n",
            "Enter Gender        : Male\n",
            "Enter Age(Years)   : 21\n",
            "Date of Admission : 27 June 2019\n",
            "Date of Discharge : 24 September 2020\n",
            "Enter the symptoms: (Sym1,Sym2,Sym3,Sym.....)Fever,Body pains,cold,headach,vomtings\n",
            "Patient Symptoms: \n",
            "\n",
            "Fever\n",
            "Body pains\n",
            "cold\n",
            "headach\n",
            "vomtings\n",
            "Name of the Patient:  Golla Anjaiah\n",
            "Gender             :  Male\n",
            "Age(in Years)      :  21\n",
            "Date of Admission  :  27 June 2019\n",
            "Date of Discharge  :  24 September 2020\n",
            "\n"
          ]
        }
      ]
    },
    {
      "cell_type": "markdown",
      "metadata": {
        "id": "3ccPmwAWe4a9"
      },
      "source": [
        "## Problem 6"
      ]
    },
    {
      "cell_type": "code",
      "metadata": {
        "colab": {
          "base_uri": "https://localhost:8080/"
        },
        "id": "ktmQ_zUWbkq_",
        "outputId": "438a5a0b-71ee-47e3-f603-eaf7db0af5a0"
      },
      "source": [
        "class time:\n",
        "  def __init__(self,hour,minute,second):\n",
        "    self.hour = hour\n",
        "    self.minute = minute\n",
        "    self.second = second\n",
        "\n",
        "  def disp_time(self):\n",
        "    print('Time is %2.0d:%2.0d:%2.0d' % (self.hour,self.minute,self.second))\n",
        "\n",
        "class time_default:\n",
        "  def __init__(self):\n",
        "    self.hour = 0\n",
        "    self.minute = 0\n",
        "    self.second = 0\n",
        "\n",
        "  def disp_time(self):\n",
        "    print('Time is %2.0d:%2.0d:%2.0d' % (self.hour,self.minute,self.second))\n",
        "\n",
        "t = time(13,23,12)\n",
        "t.disp_time()\n",
        "t_d = time_default()\n",
        "t_d.disp_time()\n"
      ],
      "execution_count": 14,
      "outputs": [
        {
          "output_type": "stream",
          "name": "stdout",
          "text": [
            "Time is 13:23:12\n",
            "Time is  0: 0: 0\n"
          ]
        }
      ]
    },
    {
      "cell_type": "markdown",
      "metadata": {
        "id": "wjJSAhype8qU"
      },
      "source": [
        "## Problem 7"
      ]
    },
    {
      "cell_type": "code",
      "metadata": {
        "id": "2J1Oo1PXfANT",
        "colab": {
          "base_uri": "https://localhost:8080/"
        },
        "outputId": "7fc1a812-c026-49b0-8eae-ff883f319fa5"
      },
      "source": [
        "class Students:\n",
        "    def __init__(self):\n",
        "        self.name1=\"Rahul\"\n",
        "        self.age1=21\n",
        "        self.rollNo1=33\n",
        "        self.name2=\"Rohit\"\n",
        "        self.age2=22\n",
        "        self.rollNo2=74\n",
        "    def compare(self,std2):\n",
        "        if self.age1==self.age2:\n",
        "            return True\n",
        "        else:\n",
        "            return False\n",
        "std1=Students()\n",
        "std2=Students()\n",
        "if std1.compare(std2):\n",
        "    print(\"There ages are Equal\")\n",
        "else:\n",
        "    print(\"There ages are not Equal\")"
      ],
      "execution_count": 7,
      "outputs": [
        {
          "output_type": "stream",
          "name": "stdout",
          "text": [
            "There ages are not Equal\n"
          ]
        }
      ]
    },
    {
      "cell_type": "markdown",
      "metadata": {
        "id": "g8xXU_HZfG_3"
      },
      "source": [
        "## Problem 8"
      ]
    },
    {
      "cell_type": "code",
      "metadata": {
        "id": "0xD7DocofJ7b",
        "colab": {
          "base_uri": "https://localhost:8080/"
        },
        "outputId": "4c2e5107-28fd-46ec-e94f-b112234c7a8e"
      },
      "source": [
        "class Details:\n",
        "    institute=\"IIIT Dharwad\"\n",
        "    Sem=\"3rd Sem\"\n",
        "    def __init__(self):\n",
        "        pass\n",
        "    def student_input(self):\n",
        "        self.name=input(\"Enter Name: \")\n",
        "        self.usn=int(input(\"Enter USN: \"))\n",
        "    def student_details(self):\n",
        "        print(\"        \")\n",
        "        print(\"Name: \",self.name)\n",
        "        print(\"USN: \",self.usn)\n",
        "    @classmethod\n",
        "    def institute_details(cls):\n",
        "        print(\"Institute: \",Details.institute)\n",
        "        print(\"Sem: \",cls.Sem)\n",
        "\n",
        "List=[]\n",
        "for i in range(2):\n",
        "    std=Details()\n",
        "    std.student_input()\n",
        "    List.append(std)\n",
        "\n",
        "for i in range(2):\n",
        "    List[i].student_details()\n",
        "    List[i].institute_details()"
      ],
      "execution_count": 8,
      "outputs": [
        {
          "output_type": "stream",
          "name": "stdout",
          "text": [
            "Enter Name: Ramu\n",
            "Enter USN: 89\n",
            "Enter Name: Anju\n",
            "Enter USN: 45\n",
            "        \n",
            "Name:  Ramu\n",
            "USN:  89\n",
            "Institute:  IIIT Dharwad\n",
            "Sem:  3rd Sem\n",
            "        \n",
            "Name:  Anju\n",
            "USN:  45\n",
            "Institute:  IIIT Dharwad\n",
            "Sem:  3rd Sem\n"
          ]
        }
      ]
    },
    {
      "cell_type": "markdown",
      "metadata": {
        "id": "4Yn5V_fcfSix"
      },
      "source": [
        "## Problem 9"
      ]
    },
    {
      "cell_type": "code",
      "metadata": {
        "id": "YX9hhC3tfWV-",
        "colab": {
          "base_uri": "https://localhost:8080/"
        },
        "outputId": "7f08ecbe-da3b-40ce-a2d8-cc6e807df28c"
      },
      "source": [
        "class student:\n",
        "    def __init__(self):\n",
        "        self.name=\"\"\n",
        "        self.rollNo=0\n",
        "        self.sem=0\n",
        "    class Laptop:\n",
        "        def __init__(self):\n",
        "            self.cpu=\"\"\n",
        "            self.ram=0\n",
        "            self.harddisk=0\n",
        "        def Enter_data(self):\n",
        "            self.cpu=input(\"Enter CPU: \")\n",
        "            self.ram=int(input(\"Enter Ram: \"))\n",
        "            self.harddisk=int(input(\"Enter Hard Disk(storage space): \"))\n",
        "        def LDisplay(self):\n",
        "            print(\"Features of {} Laptop\".format(i+1))\n",
        "            print(\"CPU: \",self.cpu)\n",
        "            print(\"Ram(in GB):\",self.ram)\n",
        "            print(\"Storage(Hard Disk in GB): \",self.harddisk)\n",
        "\n",
        "    def st_data(self):\n",
        "        self.name=input(\"Enter Name:\")\n",
        "        self.rollNo=int(input(\"Enter Roll No: \"))\n",
        "        self.sem=int(input(\"Enter Semister: \"))\n",
        "       # self.lap.Enter_data()\n",
        "    def SDisplay(self):\n",
        "        print(\"        \")\n",
        "        print(\"Details of Student\")\n",
        "        print(\"Name of the Student:\",self.name)\n",
        "        print(\"Roll Number: \",self.rollNo)\n",
        "        print(\"Semister:  \",self.sem)\n",
        "        #self.lap.LDisplay()\n",
        "    \n",
        "stu=student()\n",
        "stu.st_data()\n",
        "List=[]\n",
        "for i in range(2):\n",
        "    lap=stu.Laptop()\n",
        "    lap.Enter_data()\n",
        "    List.append(lap)\n",
        "stu.SDisplay()\n",
        "for i in range(2):\n",
        "    List[i].LDisplay()"
      ],
      "execution_count": 9,
      "outputs": [
        {
          "output_type": "stream",
          "name": "stdout",
          "text": [
            "Enter Name:Anji\n",
            "Enter Roll No: 48\n",
            "Enter Semister: 3\n",
            "Enter CPU: Ryzen7\n",
            "Enter Ram: 16\n",
            "Enter Hard Disk(storage space): 500\n",
            "Enter CPU: XYZ\n",
            "Enter Ram: 8\n",
            "Enter Hard Disk(storage space): 1000\n",
            "        \n",
            "Details of Student\n",
            "Name of the Student: Anji\n",
            "Roll Number:  48\n",
            "Semister:   3\n",
            "Features of 1 Laptop\n",
            "CPU:  Ryzen7\n",
            "Ram(in GB): 16\n",
            "Storage(Hard Disk in GB):  500\n",
            "Features of 2 Laptop\n",
            "CPU:  XYZ\n",
            "Ram(in GB): 8\n",
            "Storage(Hard Disk in GB):  1000\n"
          ]
        }
      ]
    }
  ]
}