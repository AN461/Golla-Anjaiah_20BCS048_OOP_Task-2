{
  "nbformat": 4,
  "nbformat_minor": 0,
  "metadata": {
    "colab": {
      "name": "Golla Anjaiah_20BCS048_OOPs_Task-3.ipynb",
      "provenance": [],
      "authorship_tag": "ABX9TyP2YcnvcRrdSi+plKsLRpwX",
      "include_colab_link": true
    },
    "kernelspec": {
      "name": "python3",
      "display_name": "Python 3"
    },
    "language_info": {
      "name": "python"
    }
  },
  "cells": [
    {
      "cell_type": "markdown",
      "metadata": {
        "id": "view-in-github",
        "colab_type": "text"
      },
      "source": [
        "<a href=\"https://colab.research.google.com/github/AN461/OOPs-Lab/blob/main/Golla_Anjaiah_20BCS048_OOPs_Task_3.ipynb\" target=\"_parent\"><img src=\"https://colab.research.google.com/assets/colab-badge.svg\" alt=\"Open In Colab\"/></a>"
      ]
    },
    {
      "cell_type": "markdown",
      "metadata": {
        "id": "miAgE572RqJr"
      },
      "source": [
        "## Problem 1"
      ]
    },
    {
      "cell_type": "code",
      "metadata": {
        "colab": {
          "base_uri": "https://localhost:8080/"
        },
        "id": "TNh6jf4sQ7pm",
        "outputId": "063d5f83-8dbd-4869-f915-8fc68f1bf9f8"
      },
      "source": [
        "class student:\n",
        "    def __init__(self):\n",
        "        self.name=\"\"\n",
        "        self.regNo=0\n",
        "        self.age=0\n",
        "        self.gender=\"\"\n",
        "        self.branch=\"\"\n",
        "        self.sem=0\n",
        "    def Enter_details(self):\n",
        "        self.name=input(\"Enter Name: \")\n",
        "        self.regNo=int(input(\"Enter Reg No: \"))\n",
        "        self.age=int(input(\"Enter Age: \"))\n",
        "        self.gender=input(\"Enter Gender: \")\n",
        "        self.branch=input(\"Enter Branch: \")\n",
        "        self.sem=int(input(\"Enter Semister: \"))\n",
        "    def Display_Basic(self):\n",
        "        print(\"Student Name:  \",self.name)\n",
        "        print(\"Reg No      :  \",self.regNo)\n",
        "        print(\"Age         : \",self.age)\n",
        "        print(\"Gender      : \",self.gender)\n",
        "        print(\"Branch      : \",self.branch)\n",
        "        print(\"Semister    : \",self.sem)\n",
        "class student_ResultInfo(student):\n",
        "    def __init__(self):\n",
        "        self.marks=0\n",
        "        self.percentage=\"\"\n",
        "        self.grade=\"\"\n",
        "    def enter_result(self):\n",
        "        self.marks=int(input(\"Enter Total marks: \"))\n",
        "        self.percentage=input(\"Enter Percentage: \")\n",
        "        self.grade=input(\"Enter Grade: \")\n",
        "    def Result_info(self):\n",
        "        print(\"Total Marks: \",self.marks)\n",
        "        print(\"Percentage : \",self.percentage)\n",
        "        print(\"Grade      : \",self.grade)\n",
        "st=student_ResultInfo()\n",
        "st.Enter_details()\n",
        "st.enter_result()\n",
        "st.Display_Basic()\n",
        "st.Result_info()"
      ],
      "execution_count": 4,
      "outputs": [
        {
          "output_type": "stream",
          "name": "stdout",
          "text": [
            "Enter Name: Anji\n",
            "Enter Reg No: 25\n",
            "Enter Age: 21\n",
            "Enter Gender: Male\n",
            "Enter Branch: CSE\n",
            "Enter Semister: 3\n",
            "Enter Total marks: 95\n",
            "Enter Percentage: 95\n",
            "Enter Grade: A+\n",
            "Student Name:   Anji\n",
            "Reg No      :   25\n",
            "Age         :  21\n",
            "Gender      :  Male\n",
            "Branch      :  CSE\n",
            "Semister    :  3\n",
            "Total Marks:  95\n",
            "Percentage :  95\n",
            "Grade      :  A+\n"
          ]
        }
      ]
    },
    {
      "cell_type": "markdown",
      "metadata": {
        "id": "A8tfG_xGcTVg"
      },
      "source": [
        "## Problem 2"
      ]
    },
    {
      "cell_type": "code",
      "metadata": {
        "colab": {
          "base_uri": "https://localhost:8080/"
        },
        "id": "LGpskYqJcWWS",
        "outputId": "5df2f164-cd35-40a0-eef9-97ebb4a9329b"
      },
      "source": [
        "class PDFs:\n",
        "    def __init__(self):\n",
        "        self.creater=\"\"\n",
        "        self.description=\"\"\n",
        "        self.filesize=0\n",
        "\n",
        "    def File_size(self):\n",
        "        self.filesize=int(input(\"Enter File Size(in MB): \"))\n",
        "        if self.filesize>100:\n",
        "            print(\"Error! \\n Storage Full,Please Clear the memory \")\n",
        "        else:\n",
        "            print(\"Your PDF File Saved\")\n",
        "    def enter_details(self):\n",
        "        self.Fname=input(\"Enter File Name(PDF): \")\n",
        "        self.creater=input(\"Enter Creater Name: \")\n",
        "    def Display_details(self):\n",
        "        print(\"########################\")\n",
        "        print(\"PDF and Picture Created By: \",self.creater)\n",
        "        print(\"PDF File Info: Internal Storage/PDFs/\",self.Fname,\".pdf\")\n",
        "        print(\"PDF File Size(in MB): \",self.filesize,\"MB\")\n",
        "class Pictures(PDFs):\n",
        "    def __init__(self):\n",
        "        self.pcreater=\"\"\n",
        "        self.pdescription=\"\"\n",
        "        self.width=0\n",
        "        self.lenth=0\n",
        "        self.psize=\"5.25MB\"\n",
        "        self.filename=\"\"\n",
        "    def picture_size(self):\n",
        "        self.filename=input(\"Enter File Name(Picture): \")\n",
        "        self.width=int(input(\"Enter Width(Min 200): \"))\n",
        "        self.lenth=int(input(\"Enter Length(500): \"))\n",
        "        if self.width>200 and self.lenth>500:\n",
        "            print(\"Error! \\n File is not Supported \")\n",
        "        else:\n",
        "            print(\"Your Picture is Saved\")\n",
        "    def picture_details(self):\n",
        "        print(\"Picture File Info: \",self.width,\"x\",self.lenth,\"px\")\n",
        "        print(\"Picture Local Path: Internal storage/Camera/\",self.filename,\".jpg\")\n",
        "        print(\"Picture Size: \",self.psize)\n",
        "Cr=Pictures()\n",
        "Cr.enter_details()\n",
        "Cr.File_size()\n",
        "Cr.picture_size()\n",
        "Cr.Display_details()"
      ],
      "execution_count": 5,
      "outputs": [
        {
          "output_type": "stream",
          "name": "stdout",
          "text": [
            "Enter File Name(PDF): Assignment\n",
            "Enter Creater Name: Anji\n",
            "Enter File Size(in MB): 50\n",
            "Your PDF File Saved\n",
            "Enter File Name(Picture): Photo\n",
            "Enter Width(Min 200): 100\n",
            "Enter Length(500): 400\n",
            "Your Picture is Saved\n",
            "########################\n",
            "PDF and Picture Created By:  Anji\n",
            "PDF File Info: Internal Storage/PDFs/ Assignment .pdf\n",
            "PDF File Size(in MB):  50 MB\n"
          ]
        }
      ]
    },
    {
      "cell_type": "markdown",
      "metadata": {
        "id": "1rrXY30xcdtC"
      },
      "source": [
        "## Problem 3"
      ]
    },
    {
      "cell_type": "code",
      "metadata": {
        "colab": {
          "base_uri": "https://localhost:8080/"
        },
        "id": "pDvuk1JvchKO",
        "outputId": "5a45157d-066a-46bf-9eab-c5d8e9c5fc4c"
      },
      "source": [
        "class Vehicle:\n",
        "    def __init__(self, name, mileage, capacity):\n",
        "        self.name = name\n",
        "        self.mileage = mileage\n",
        "        self.capacity = capacity\n",
        "\n",
        "    def fare(self):\n",
        "        return self.capacity * 100\n",
        "\n",
        "class Bus(Vehicle):\n",
        "    \n",
        "    def fare(self):\n",
        "        fare_bus = self.capacity * 100 \n",
        "        total_fare = fare_bus + (0.1 *fare_bus)\n",
        "        return total_fare\n",
        "\n",
        "college_bus = Bus(\"College Bus\", 12, 50)\n",
        "print(\"Total Bus fare is:\", college_bus.fare())"
      ],
      "execution_count": 2,
      "outputs": [
        {
          "output_type": "stream",
          "name": "stdout",
          "text": [
            "Total Bus fare is: 5500.0\n"
          ]
        }
      ]
    }
  ]
}