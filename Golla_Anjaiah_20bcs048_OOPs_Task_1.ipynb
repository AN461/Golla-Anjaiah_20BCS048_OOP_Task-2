{
  "nbformat": 4,
  "nbformat_minor": 0,
  "metadata": {
    "colab": {
      "name": "Golla Anjaiah_20bcs048_OOPs_Task-1.ipynb",
      "provenance": [],
      "collapsed_sections": [],
      "authorship_tag": "ABX9TyMOpF65N1VTdda+UWEG/f16",
      "include_colab_link": true
    },
    "kernelspec": {
      "name": "python3",
      "display_name": "Python 3"
    },
    "language_info": {
      "name": "python"
    }
  },
  "cells": [
    {
      "cell_type": "markdown",
      "metadata": {
        "id": "view-in-github",
        "colab_type": "text"
      },
      "source": [
        "<a href=\"https://colab.research.google.com/github/AN461/OOPs-Lab/blob/main/Golla_Anjaiah_20bcs048_OOPs_Task_1.ipynb\" target=\"_parent\"><img src=\"https://colab.research.google.com/assets/colab-badge.svg\" alt=\"Open In Colab\"/></a>"
      ]
    },
    {
      "cell_type": "markdown",
      "metadata": {
        "id": "5oMyicZ2RBYo"
      },
      "source": [
        "## Problem 1"
      ]
    },
    {
      "cell_type": "code",
      "metadata": {
        "colab": {
          "base_uri": "https://localhost:8080/"
        },
        "id": "woKPt3D_QxcN",
        "outputId": "e94ef535-902d-4cad-d1ab-dc51ac020a11"
      },
      "source": [
        "def leap_year(year):\n",
        "    if year%400==0:\n",
        "        print(\"it is leap year\")\n",
        "    elif year%100==0:\n",
        "        print(\"It is not leap year\")\n",
        "    elif year%4==0:\n",
        "        print(\"It is a leap year\")\n",
        "    else:\n",
        "        print(\"It is not leap year\")\n",
        "year=int(input(\"Enter the year : \"))\n",
        "leap_year(year)"
      ],
      "execution_count": 1,
      "outputs": [
        {
          "output_type": "stream",
          "name": "stdout",
          "text": [
            "Enter the year : 1987\n",
            "It is not leap year\n"
          ]
        }
      ]
    },
    {
      "cell_type": "markdown",
      "metadata": {
        "id": "nj_9FaVQRX94"
      },
      "source": [
        "##Problem 2\n"
      ]
    },
    {
      "cell_type": "code",
      "metadata": {
        "colab": {
          "base_uri": "https://localhost:8080/"
        },
        "id": "KQozfnR1TBfS",
        "outputId": "85c3c0ca-30b2-45d4-bed6-5bab5dbedebf"
      },
      "source": [
        "def Even_Odd(num):\n",
        "    if num%2==0 and num>=2 and num<=5:\n",
        "        print(\"Not Weird\")\n",
        "    elif num%2==0 and num<=20 and num>=6:\n",
        "        print(\"Weird\")\n",
        "    elif num%2==0 and num>20:\n",
        "        print(\"Not Weird\")\n",
        "    else:\n",
        "        print(\"Weird\")\n",
        "num=int(input(\"Enter the Number: \"))  \n",
        "Even_Odd(num)"
      ],
      "execution_count": 8,
      "outputs": [
        {
          "output_type": "stream",
          "name": "stdout",
          "text": [
            "Enter the Number: 45\n",
            "Weird\n"
          ]
        }
      ]
    },
    {
      "cell_type": "markdown",
      "metadata": {
        "id": "es54qw7RTPLV"
      },
      "source": [
        "##Problem 3"
      ]
    },
    {
      "cell_type": "code",
      "metadata": {
        "colab": {
          "base_uri": "https://localhost:8080/"
        },
        "id": "IWrfIAFgTS4y",
        "outputId": "319d2639-b85a-4cd8-f560-178ad7094552"
      },
      "source": [
        "n = int(input(\"Enter the number of Guests: \"))\n",
        "guests = []\n",
        "\n",
        "for i in range(0, n):\n",
        "  name = str(input(\"Enter the name of Guests: \"))\n",
        "  guests.append(name)\n",
        "print(\"Guests are: \", guests)\n",
        "if(n%2==0):\n",
        "  for k in range( int((n)/2) , n-1):\n",
        "    print(\"\\nFashionable late persons are: \", guests[k])\n",
        "elif(n%2 != 0):\n",
        "  for k in range( int((n-1)/2) , n-1):\n",
        "    print(\"\\nFashionable late persons are: \", guests[k])"
      ],
      "execution_count": 7,
      "outputs": [
        {
          "output_type": "stream",
          "name": "stdout",
          "text": [
            "Enter the number of Guests: 7\n",
            "Enter the name of Guests: Rahul\n",
            "Enter the name of Guests: Tharun\n",
            "Enter the name of Guests: Anji\n",
            "Enter the name of Guests: Vivek\n",
            "Enter the name of Guests: Ram\n",
            "Enter the name of Guests: Suresh\n",
            "Enter the name of Guests: Sri\n",
            "Guests are:  ['Rahul', 'Tharun', 'Anji', 'Vivek', 'Ram', 'Suresh', 'Sri']\n",
            "\n",
            "Fashionable late persons are:  Vivek\n",
            "\n",
            "Fashionable late persons are:  Ram\n",
            "\n",
            "Fashionable late persons are:  Suresh\n"
          ]
        }
      ]
    },
    {
      "cell_type": "markdown",
      "metadata": {
        "id": "mWNvVaEqTXdY"
      },
      "source": [
        "## Problem 4"
      ]
    },
    {
      "cell_type": "code",
      "metadata": {
        "colab": {
          "base_uri": "https://localhost:8080/"
        },
        "id": "B4vAmmQHTdUC",
        "outputId": "d84e12b2-055e-44bc-82df-4fed64418dc3"
      },
      "source": [
        "def search_for_keyword(doc_list, keyword):\n",
        "  req_list = []\n",
        "  for doc in doc_list:\n",
        "    duplicate = doc\n",
        "    duplicate.replace(',','')\n",
        "    duplicate.replace('.','')\n",
        "    duplicate_list = duplicate.split()\n",
        "    for word in duplicate_list:\n",
        "      if word.lower() == keyword.lower():\n",
        "        req_list.append(doc)\n",
        "  \n",
        "  return req_list\n",
        "\n",
        "doc_list = [\"The Learn Python Challenge Rohit.\", \"They bought a car\", \"bangalore\"]\n",
        "\n",
        "keyword = input('Enter the keyword: ')\n",
        "required_list= search_for_keyword(doc_list, keyword)\n",
        "print(required_list)\n",
        "\n",
        "keyword = input('Enter the keyword: ')\n",
        "required_list = search_for_keyword(doc_list, keyword)\n",
        "print(required_list)\n",
        "\n",
        "keyword = input('Enter the keyword: ')\n",
        "required_list = search_for_keyword(doc_list, keyword)\n",
        "print(required_list)"
      ],
      "execution_count": 6,
      "outputs": [
        {
          "output_type": "stream",
          "name": "stdout",
          "text": [
            "Enter the keyword: learn\n",
            "['The Learn Python Challenge Rohit.']\n",
            "Enter the keyword: bought\n",
            "['They bought a car']\n",
            "Enter the keyword: banga\n",
            "[]\n"
          ]
        }
      ]
    },
    {
      "cell_type": "markdown",
      "metadata": {
        "id": "AxXHptLDTkI1"
      },
      "source": [
        "## Problem 5"
      ]
    },
    {
      "cell_type": "code",
      "metadata": {
        "colab": {
          "base_uri": "https://localhost:8080/"
        },
        "id": "tQo4J7eYTnZE",
        "outputId": "1a1ef7a8-0793-405f-dd1d-3f17d4878c27"
      },
      "source": [
        "def Gross_pay(Basic_pay):\n",
        "    DA=float(Basic_pay*(40/100))\n",
        "    HRA=float(Basic_pay*(20/100))\n",
        "    GP=float(Basic_pay+DA+HRA)\n",
        "    print(\"Gross Pay of the employee is: \",GP)\n",
        "Basic_pay=int(input(\"Enter the Employee's Basic Pay: \" ))\n",
        "Gross_pay(Basic_pay)"
      ],
      "execution_count": 2,
      "outputs": [
        {
          "output_type": "stream",
          "name": "stdout",
          "text": [
            "Enter the Employee's Basic Pay: 50\n",
            "Gross Pay of the employee is:  80.0\n"
          ]
        }
      ]
    }
  ]
}