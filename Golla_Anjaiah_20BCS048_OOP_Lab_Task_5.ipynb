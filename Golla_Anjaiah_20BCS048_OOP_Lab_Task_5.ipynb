{
  "nbformat": 4,
  "nbformat_minor": 0,
  "metadata": {
    "colab": {
      "name": "Golla Anjaiah_20BCS048_OOP_Lab_Task-5.ipynb",
      "provenance": [],
      "authorship_tag": "ABX9TyO31rSSAUuBlyqQlrFVNy2S",
      "include_colab_link": true
    },
    "kernelspec": {
      "name": "python3",
      "display_name": "Python 3"
    },
    "language_info": {
      "name": "python"
    }
  },
  "cells": [
    {
      "cell_type": "markdown",
      "metadata": {
        "id": "view-in-github",
        "colab_type": "text"
      },
      "source": [
        "<a href=\"https://colab.research.google.com/github/AN461/OOPs-Lab/blob/main/Golla_Anjaiah_20BCS048_OOP_Lab_Task_5.ipynb\" target=\"_parent\"><img src=\"https://colab.research.google.com/assets/colab-badge.svg\" alt=\"Open In Colab\"/></a>"
      ]
    },
    {
      "cell_type": "markdown",
      "metadata": {
        "id": "_yzUuLJvBoqq"
      },
      "source": [
        "# Problem 1\n"
      ]
    },
    {
      "cell_type": "code",
      "metadata": {
        "colab": {
          "base_uri": "https://localhost:8080/"
        },
        "id": "izJmiVmdAwOc",
        "outputId": "e67a11dc-c706-47f4-fd37-e685366a3107"
      },
      "source": [
        "class shape:\n",
        "    def __init__(self):\n",
        "        self.radius=0\n",
        "        self.length=0\n",
        "        self.breadth=0\n",
        "        self.side=0\n",
        "    def Area(self):\n",
        "        if(i==1):\n",
        "            self.c_area=(float(3.14))*(float((self.radius)**2))\n",
        "            print(\"Area of the Circle is: \",self.c_area)\n",
        "        elif(i==2):\n",
        "            self.s_area=float((self.side)**2)\n",
        "            print(\"Area of the Square is: \",self.s_area)\n",
        "        elif(i==3):\n",
        "            self.r_area=float(self.length)*float(self.breadth)\n",
        "            print(\"Area of Rectangle is: \",self.r_area)\n",
        "            \n",
        "class circle(shape):\n",
        "    def Carea(self):\n",
        "        print(\"CIRCLE\")\n",
        "        self.radius=int(input(\"Enter the radius of Circle: \"))\n",
        "        super().Area()\n",
        "class square(shape):\n",
        "    def Sarea(self):\n",
        "        print(\"SQUARE\")\n",
        "        self.side=int(input(\"Enter the side of Square: \"))\n",
        "        super().Area()\n",
        "class rectangle(shape):\n",
        "    def Rarea(self):\n",
        "        print(\"RECTANGLE\")\n",
        "        self.length=int(input(\"Enter the Length: \"))\n",
        "        self.breadth=int(input(\"Enter the Breadth:\" ))\n",
        "        super().Area()\n",
        "        \n",
        "shp=circle()\n",
        "shp1=square()\n",
        "shp2=rectangle()\n",
        "i=int(input(\"Select the shape to find Area of that shape\\n 1.Circle 2.Square 3.Rectangle \"))\n",
        "if(i==1):\n",
        "    shp.Carea()\n",
        "elif(i==2):\n",
        "    shp1.Sarea()\n",
        "elif(i==3):\n",
        "    shp2.Rarea()"
      ],
      "execution_count": 4,
      "outputs": [
        {
          "output_type": "stream",
          "name": "stdout",
          "text": [
            "Select the shape to find Area of that shape\n",
            " 1.Circle 2.Square 3.Rectangle 1\n",
            "CIRCLE\n",
            "Enter the radius of Circle: 5\n",
            "Area of the Circle is:  78.5\n"
          ]
        }
      ]
    },
    {
      "cell_type": "markdown",
      "metadata": {
        "id": "9u1ISX_7CV_4"
      },
      "source": [
        "# Problem 2"
      ]
    },
    {
      "cell_type": "code",
      "metadata": {
        "colab": {
          "base_uri": "https://localhost:8080/"
        },
        "id": "ASOBMsYOCZDB",
        "outputId": "7efb3a26-2fde-43ee-e465-fb7ab2c77df2"
      },
      "source": [
        "class Travel:\n",
        "   \n",
        "    def passengers(self):\n",
        "        self.__npassengers=int(input(\"Enter the Number of passengers \"))\n",
        "        self.p=self.__npassengers\n",
        "    def distance(self):\n",
        "        self.tdistance=int(input(\"Enter the Distance travelled (in KM):\" ))\n",
        "    def mode(self):\n",
        "        print(\"\\nMode of Transportation: 1.Train   2.Bus \")\n",
        "        \n",
        "class Train(Travel):\n",
        "    def tcost(self):\n",
        "        print(\"\\nCost for each person in Train is Rs.60\")\n",
        "        super().passengers()\n",
        "        self.costt=self.p*60\n",
        "        print(\"Total cost is : Rs.\",self.costt)\n",
        "class Bus(Travel):\n",
        "    def bcost(self):\n",
        "        print(\"\\nCost for each person in Bus is Rs.100\")\n",
        "        super().passengers()\n",
        "        self.costb=(self.p)*100\n",
        "        print(\"Total Cost is : Rs.\",self.costb)\n",
        "obj=Train()\n",
        "objb=Bus()\n",
        "obj.distance()\n",
        "obj.mode()\n",
        "i=int(input(\"Select the mode of Transportation \"))\n",
        "if i==1:\n",
        "    obj.tcost()\n",
        "elif i==2:\n",
        "    objb.bcost()"
      ],
      "execution_count": 3,
      "outputs": [
        {
          "output_type": "stream",
          "name": "stdout",
          "text": [
            "Enter the Distance travelled (in KM):45\n",
            "\n",
            "Mode of Transportation: 1.Train   2.Bus \n",
            "Select the mode of Transportation 2\n",
            "\n",
            "Cost for each person in Bus is Rs.100\n",
            "Enter the Number of passengers 100\n",
            "Total Cost is : Rs. 10000\n"
          ]
        }
      ]
    },
    {
      "cell_type": "markdown",
      "metadata": {
        "id": "M-n9zH8OClzS"
      },
      "source": [
        "# Problem 3"
      ]
    },
    {
      "cell_type": "code",
      "metadata": {
        "colab": {
          "base_uri": "https://localhost:8080/"
        },
        "id": "vLFPnRakCpPq",
        "outputId": "81e7abbb-711f-4585-ddaa-a17d20e20f54"
      },
      "source": [
        "class Car:\n",
        "    def __init__(self,model_number):\n",
        "        self.model_number=model_number\n",
        "    def swap(self,obj):\n",
        "        try:\n",
        "            self.model_number,obj.model_number=obj.model_number,self.model_number\n",
        "        except:\n",
        "            print(\"Please Check again\")\n",
        "c1=Car('AN64')\n",
        "c2=Car('GK78')\n",
        "print(\"Before swap\")\n",
        "print(\"Car-1 model number is:\",c1.model_number)\n",
        "print(\"Car-2 model number is:\",c2.model_number)\n",
        "c1.swap(c2)\n",
        "print(\"After swap\")\n",
        "print(\"Car-1 model number is:\",c1.model_number)\n",
        "print(\"Car-2 model number is:\",c2.model_number)"
      ],
      "execution_count": 1,
      "outputs": [
        {
          "output_type": "stream",
          "name": "stdout",
          "text": [
            "Before swap\n",
            "Car-1 model number is: AN64\n",
            "Car-2 model number is: GK78\n",
            "After swap\n",
            "Car-1 model number is: GK78\n",
            "Car-2 model number is: AN64\n"
          ]
        }
      ]
    }
  ]
}