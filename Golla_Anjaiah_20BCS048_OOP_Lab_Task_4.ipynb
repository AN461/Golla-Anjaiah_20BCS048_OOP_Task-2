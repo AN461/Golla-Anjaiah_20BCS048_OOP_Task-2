{
  "nbformat": 4,
  "nbformat_minor": 0,
  "metadata": {
    "colab": {
      "name": "Golla Anjaiah_20BCS048_OOP_Lab_Task-4.ipynb",
      "provenance": [],
      "authorship_tag": "ABX9TyM/syLz9eeqk/zJA4UivC1y",
      "include_colab_link": true
    },
    "kernelspec": {
      "name": "python3",
      "display_name": "Python 3"
    },
    "language_info": {
      "name": "python"
    }
  },
  "cells": [
    {
      "cell_type": "markdown",
      "metadata": {
        "id": "view-in-github",
        "colab_type": "text"
      },
      "source": [
        "<a href=\"https://colab.research.google.com/github/AN461/OOPs-Lab/blob/main/Golla_Anjaiah_20BCS048_OOP_Lab_Task_4.ipynb\" target=\"_parent\"><img src=\"https://colab.research.google.com/assets/colab-badge.svg\" alt=\"Open In Colab\"/></a>"
      ]
    },
    {
      "cell_type": "markdown",
      "metadata": {
        "id": "S-9n6I6mUw_A"
      },
      "source": [
        "# Problem 1"
      ]
    },
    {
      "cell_type": "code",
      "metadata": {
        "id": "Jn06vIJ2PhYe",
        "colab": {
          "base_uri": "https://localhost:8080/"
        },
        "outputId": "7dccc540-3cd6-439e-dadc-a271d9d0555f"
      },
      "source": [
        "class Node:\n",
        "    def __init__(self,data):\n",
        "        self.data=data\n",
        "        self.address=None\n",
        "class Stack:\n",
        "    def __init__(self):\n",
        "        self.head=None\n",
        "    def Is_Empty(self):                   #a\n",
        "        if self.head==None:\n",
        "            print(\"Stack is Empty\")\n",
        "        else:\n",
        "            print(\"Stack is not Empty\")\n",
        "    def Add_Data(self,data):              #b\n",
        "        if self.head==None:\n",
        "            self.head=Node(data)\n",
        "        else:\n",
        "            newnode = Node(data)\n",
        "            newnode.address=self.head\n",
        "            self.head=newnode\n",
        "    def Delete(self):                    #c\n",
        "        if self.head==None:\n",
        "            print(\"stack is empty\")\n",
        "        else:\n",
        "            self.head=self.head.address\n",
        "            print(\"Top Element of the Stack is Deleted!\")\n",
        "       \n",
        "    def Display(self):                  #d\n",
        "        if self.head==None:\n",
        "            print(\"Stack is Empty\")\n",
        "        else:\n",
        "             n=self.head\n",
        "             while(n!=None):\n",
        "                 print(n.data)\n",
        "                 n=n.address\n",
        "    def destroy(self):                 #e\n",
        "        del self\n",
        "    \n",
        "def Select(choice,objects):\n",
        "    while(choice>0 and choice <5):\n",
        "        if choice==1:\n",
        "            A=input(\"Enter the data into stack :\")\n",
        "            objects.Add_Data(A)\n",
        "        elif choice==2:\n",
        "            objects.Display()\n",
        "        elif choice==3:\n",
        "            objects.Delete()\n",
        "        elif choice==4:\n",
        "            objects.Is_Empty()\n",
        "        elif choice==5:\n",
        "            objects.Destroy()\n",
        "            print(\"Stack is Destroyed!\")\n",
        "            break\n",
        "        else:\n",
        "            print(\"Please Choose 1 to 5 options only\")\n",
        "            break\n",
        "        choice=int(input(\"Enter choice to operate on Stack:\\n1.ADD DATA\\n2.DISPLAY\\n3.DELETE\\n4.IS_EMPTY\\n5.DESTROY\\n\"))\n",
        "st_ack=Stack()\n",
        "i=int(input(\"Enter The choice What do you want do on Stack\\n1.ADD DATA\\n2.DISPLAY\\n3.DELETE\\n4.IS_EMPTY\\n5.DESTROY\\n\"))\n",
        "Select(i,st_ack)"
      ],
      "execution_count": 11,
      "outputs": [
        {
          "name": "stdout",
          "output_type": "stream",
          "text": [
            "Enter The choice What do you want do on Stack\n",
            "1.ADD DATA\n",
            "2.DISPLAY\n",
            "3.DELETE\n",
            "4.IS_EMPTY\n",
            "5.DESTROY\n",
            "1\n",
            "Enter the data into stack :6\n",
            "Enter choice to operate on Stack:\n",
            "1.ADD DATA\n",
            "2.DISPLAY\n",
            "3.DELETE\n",
            "4.IS_EMPTY\n",
            "5.DESTROY\n",
            "1\n",
            "Enter the data into stack :1\n",
            "Enter choice to operate on Stack:\n",
            "1.ADD DATA\n",
            "2.DISPLAY\n",
            "3.DELETE\n",
            "4.IS_EMPTY\n",
            "5.DESTROY\n",
            "1\n",
            "Enter the data into stack :4\n",
            "Enter choice to operate on Stack:\n",
            "1.ADD DATA\n",
            "2.DISPLAY\n",
            "3.DELETE\n",
            "4.IS_EMPTY\n",
            "5.DESTROY\n",
            "1\n",
            "Enter the data into stack :3\n",
            "Enter choice to operate on Stack:\n",
            "1.ADD DATA\n",
            "2.DISPLAY\n",
            "3.DELETE\n",
            "4.IS_EMPTY\n",
            "5.DESTROY\n",
            "2\n",
            "3\n",
            "4\n",
            "1\n",
            "6\n",
            "Enter choice to operate on Stack:\n",
            "1.ADD DATA\n",
            "2.DISPLAY\n",
            "3.DELETE\n",
            "4.IS_EMPTY\n",
            "5.DESTROY\n",
            "3\n",
            "Top Element of the Stack is Deleted!\n",
            "Enter choice to operate on Stack:\n",
            "1.ADD DATA\n",
            "2.DISPLAY\n",
            "3.DELETE\n",
            "4.IS_EMPTY\n",
            "5.DESTROY\n",
            "2\n",
            "4\n",
            "1\n",
            "6\n",
            "Enter choice to operate on Stack:\n",
            "1.ADD DATA\n",
            "2.DISPLAY\n",
            "3.DELETE\n",
            "4.IS_EMPTY\n",
            "5.DESTROY\n",
            "4\n",
            "Stack is not Empty\n",
            "Enter choice to operate on Stack:\n",
            "1.ADD DATA\n",
            "2.DISPLAY\n",
            "3.DELETE\n",
            "4.IS_EMPTY\n",
            "5.DESTROY\n",
            "5\n"
          ]
        }
      ]
    },
    {
      "cell_type": "markdown",
      "metadata": {
        "id": "gvcbdsm2U7BC"
      },
      "source": [
        "# Problem 2"
      ]
    },
    {
      "cell_type": "code",
      "metadata": {
        "id": "lHQo1cV7QGa_",
        "colab": {
          "base_uri": "https://localhost:8080/"
        },
        "outputId": "bbea8dc4-2c25-4264-84ac-1f72106aa8d1"
      },
      "source": [
        "class Rectangle:                       #parameterized \n",
        "    def __init__(self,length,breadth):\n",
        "        self.length=length\n",
        "        self.breadth=breadth\n",
        "    def area(self):\n",
        "        Re_area=float(self.length)*float(self.breadth)\n",
        "        print(\"Area of the Rectangle is: {}\".format(Re_area))\n",
        "obj=Rectangle(5,4)\n",
        "obj.area()\n",
        "\n",
        "print(\"#######################################\")\n",
        "class Rectangle:                      #Default constructor\n",
        "    def parameters(self):\n",
        "        self.length=int(input(\"Enter Length of Rectangle: \"))\n",
        "        self.breadth=int(input(\"Enter Breadth of Rectangle:\"))\n",
        "    def area(self):\n",
        "        Re_area=float(self.length)*float(self.breadth)\n",
        "        print(\"Area of the Rectangle is: {}\".format(Re_area))\n",
        "obj=Rectangle()\n",
        "obj.parameters()\n",
        "obj.area()"
      ],
      "execution_count": 9,
      "outputs": [
        {
          "output_type": "stream",
          "name": "stdout",
          "text": [
            "Area of the Rectangle is: 20.0\n",
            "#######################################\n",
            "Enter Length of Rectangle: 6\n",
            "Enter Breadth of Rectangle:3\n",
            "Area of the Rectangle is: 18.0\n"
          ]
        }
      ]
    },
    {
      "cell_type": "markdown",
      "metadata": {
        "id": "gc2s5LHFVFCO"
      },
      "source": [
        "# Problem 3"
      ]
    },
    {
      "cell_type": "code",
      "metadata": {
        "colab": {
          "base_uri": "https://localhost:8080/"
        },
        "id": "vxeeZ2cFQYay",
        "outputId": "8c5bcfef-a96a-4cf6-efe2-e725f9facc40"
      },
      "source": [
        "class Queue:\n",
        "\n",
        "    def __init__(self):\n",
        "        self.queue = []\n",
        "\n",
        "    def enqueue(self, item):           # Adding an element\n",
        "        self.queue.append(item)\n",
        "\n",
        "    def dequeue(self):                 # Removing an element\n",
        "        if len(self.queue) < 1:\n",
        "            return None\n",
        "        return self.queue.pop(0)\n",
        "\n",
        "    def display(self):                 # Displaying  the queue\n",
        "        print(self.queue)\n",
        "\n",
        "    def size(self):\n",
        "        return len(self.queue)\n",
        "\n",
        "q = Queue()\n",
        "q.enqueue(6)\n",
        "q.enqueue(1)\n",
        "q.enqueue(4)\n",
        "q.enqueue(3)\n",
        "q.enqueue(4)\n",
        "q.enqueue(64)\n",
        "q.enqueue(8)\n",
        "\n",
        "q.display()\n",
        "q.dequeue()\n",
        "print(\"After removing an element\")\n",
        "q.display()\n",
        "print(\"Size of Queue After deleting is:\")\n",
        "q.size()"
      ],
      "execution_count": 10,
      "outputs": [
        {
          "output_type": "stream",
          "name": "stdout",
          "text": [
            "[6, 1, 4, 3, 4, 64, 8]\n",
            "After removing an element\n",
            "[1, 4, 3, 4, 64, 8]\n",
            "Size of Queue After deleting is:\n"
          ]
        },
        {
          "output_type": "execute_result",
          "data": {
            "text/plain": [
              "6"
            ]
          },
          "metadata": {},
          "execution_count": 10
        }
      ]
    }
  ]
}